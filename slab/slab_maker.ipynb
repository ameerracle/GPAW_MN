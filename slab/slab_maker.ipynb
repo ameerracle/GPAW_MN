{
 "cells": [
  {
   "cell_type": "code",
   "execution_count": null,
   "id": "ae14b741",
   "metadata": {},
   "outputs": [
    {
     "name": "stdout",
     "output_type": "stream",
     "text": [
      "Loaded and visualized bulk for TiN from ../crystal/TiN_D3_sorted.xyz\n",
      "Visualized TiN (100) slab — 4 layers + 10 Å vacuum\n",
      "Loaded and visualized bulk for VN from ../crystal/VN_D3_sorted.xyz\n",
      "Visualized VN (100) slab — 4 layers + 10 Å vacuum\n",
      "Loaded and visualized bulk for ScN from ../crystal/ScN_D3_sorted.xyz\n",
      "Visualized ScN (100) slab — 4 layers + 10 Å vacuum\n",
      "Loaded and visualized bulk for ZrN from ../crystal/ZrN_D3_sorted.xyz\n",
      "Visualized ZrN (100) slab — 4 layers + 10 Å vacuum\n",
      "Loaded and visualized bulk for NbN from ../crystal/NbN_D3_sorted.xyz\n",
      "Visualized NbN (100) slab — 4 layers + 10 Å vacuum\n"
     ]
    }
   ],
   "source": [
    "from ase.io import read, write\n",
    "from ase.visualize import view\n",
    "from ase.build import surface\n",
    "import os\n",
    "\n",
    "crystals = ['TiN', 'VN', 'ScN', 'ZrN', 'NbN']\n",
    "crystal_dir = '../crystal/sorted'  # Relative path from slab dir\n",
    "\n",
    "for name in crystals:\n",
    "    file_path = os.path.join(crystal_dir, f\"{name}_D3_sorted.xyz\")\n",
    "    bulk = read(file_path)\n",
    "\n",
    "    #view(bulk)\n",
    "    print(f\"Loaded and visualized bulk for {name} from {file_path}\")\n",
    "\n",
    "    # Create a (100) slab with 4 layers and 10 Å vacuum\n",
    "    slab = surface(bulk, (1, 0, 0), layers=2, vacuum=5.5)\n",
    "    slab = slab*(2,2,1)\n",
    "    #slab.center(axis=2)\n",
    "\n",
    "    view(slab)\n",
    "    print(f\"Visualized {name} (100) slab — 4 layers + 10 Å vacuum\")\n"
   ]
  },
  {
   "cell_type": "code",
   "execution_count": null,
   "id": "3e451a09",
   "metadata": {},
   "outputs": [
    {
     "ename": "FileNotFoundError",
     "evalue": "[Errno 2] No such file or directory: '.. /crystal/eos_structures/TiN_D3_EOS.xyz'",
     "output_type": "error",
     "traceback": [
      "\u001b[31m---------------------------------------------------------------------------\u001b[39m",
      "\u001b[31mFileNotFoundError\u001b[39m                         Traceback (most recent call last)",
      "\u001b[36mCell\u001b[39m\u001b[36m \u001b[39m\u001b[32mIn[2]\u001b[39m\u001b[32m, line 7\u001b[39m\n\u001b[32m      5\u001b[39m crystal_dir = \u001b[33m'\u001b[39m\u001b[33m.. /crystal/eos_structures\u001b[39m\u001b[33m'\u001b[39m\n\u001b[32m      6\u001b[39m file_path = os.path.join(crystal_dir, \u001b[33m'\u001b[39m\u001b[33mTiN_D3_EOS.xyz\u001b[39m\u001b[33m'\u001b[39m)\n\u001b[32m----> \u001b[39m\u001b[32m7\u001b[39m view(\u001b[43mread\u001b[49m\u001b[43m(\u001b[49m\u001b[43mfile_path\u001b[49m\u001b[43m)\u001b[49m)\n",
      "\u001b[36mFile \u001b[39m\u001b[32m~/miniconda3/envs/gpaw/lib/python3.12/site-packages/ase/io/formats.py:808\u001b[39m, in \u001b[36mread\u001b[39m\u001b[34m(filename, index, format, parallel, do_not_split_by_at_sign, **kwargs)\u001b[39m\n\u001b[32m    806\u001b[39m \u001b[38;5;28;01mif\u001b[39;00m index \u001b[38;5;129;01mis\u001b[39;00m \u001b[38;5;28;01mNone\u001b[39;00m:\n\u001b[32m    807\u001b[39m     index = -\u001b[32m1\u001b[39m\n\u001b[32m--> \u001b[39m\u001b[32m808\u001b[39m \u001b[38;5;28mformat\u001b[39m = \u001b[38;5;28mformat\u001b[39m \u001b[38;5;129;01mor\u001b[39;00m \u001b[43mfiletype\u001b[49m\u001b[43m(\u001b[49m\u001b[43mfilename\u001b[49m\u001b[43m,\u001b[49m\u001b[43m \u001b[49m\u001b[43mread\u001b[49m\u001b[43m=\u001b[49m\u001b[38;5;28;43misinstance\u001b[39;49m\u001b[43m(\u001b[49m\u001b[43mfilename\u001b[49m\u001b[43m,\u001b[49m\u001b[43m \u001b[49m\u001b[38;5;28;43mstr\u001b[39;49m\u001b[43m)\u001b[49m\u001b[43m)\u001b[49m\n\u001b[32m    810\u001b[39m io = get_ioformat(\u001b[38;5;28mformat\u001b[39m)\n\u001b[32m    811\u001b[39m \u001b[38;5;28;01mif\u001b[39;00m \u001b[38;5;28misinstance\u001b[39m(index, (\u001b[38;5;28mslice\u001b[39m, \u001b[38;5;28mstr\u001b[39m)):\n",
      "\u001b[36mFile \u001b[39m\u001b[32m~/miniconda3/envs/gpaw/lib/python3.12/site-packages/ase/io/formats.py:983\u001b[39m, in \u001b[36mfiletype\u001b[39m\u001b[34m(filename, read, guess)\u001b[39m\n\u001b[32m    980\u001b[39m     \u001b[38;5;28;01mreturn\u001b[39;00m ext\n\u001b[32m    982\u001b[39m \u001b[38;5;28;01mif\u001b[39;00m orig_filename == filename:\n\u001b[32m--> \u001b[39m\u001b[32m983\u001b[39m     fd = \u001b[43mopen_with_compression\u001b[49m\u001b[43m(\u001b[49m\u001b[43mfilename\u001b[49m\u001b[43m,\u001b[49m\u001b[43m \u001b[49m\u001b[33;43m'\u001b[39;49m\u001b[33;43mrb\u001b[39;49m\u001b[33;43m'\u001b[39;49m\u001b[43m)\u001b[49m\n\u001b[32m    984\u001b[39m \u001b[38;5;28;01melse\u001b[39;00m:\n\u001b[32m    985\u001b[39m     fd = orig_filename  \u001b[38;5;66;03m# type: ignore[assignment]\u001b[39;00m\n",
      "\u001b[36mFile \u001b[39m\u001b[32m~/miniconda3/envs/gpaw/lib/python3.12/site-packages/ase/io/formats.py:612\u001b[39m, in \u001b[36mopen_with_compression\u001b[39m\u001b[34m(filename, mode)\u001b[39m\n\u001b[32m    609\u001b[39m     \u001b[38;5;28;01mreturn\u001b[39;00m lzma.open(filename, mode)\n\u001b[32m    610\u001b[39m \u001b[38;5;28;01melse\u001b[39;00m:\n\u001b[32m    611\u001b[39m     \u001b[38;5;66;03m# Either None or unknown string\u001b[39;00m\n\u001b[32m--> \u001b[39m\u001b[32m612\u001b[39m     \u001b[38;5;28;01mreturn\u001b[39;00m \u001b[38;5;28;43mopen\u001b[39;49m\u001b[43m(\u001b[49m\u001b[43mfilename\u001b[49m\u001b[43m,\u001b[49m\u001b[43m \u001b[49m\u001b[43mmode\u001b[49m\u001b[43m)\u001b[49m\n",
      "\u001b[31mFileNotFoundError\u001b[39m: [Errno 2] No such file or directory: '.. /crystal/eos_structures/TiN_D3_EOS.xyz'"
     ]
    }
   ],
   "source": [
    "from ase.io import read\n",
    "from ase.visualize import view\n",
    "import os\n",
    "\n",
    "crystal_dir = '../crystal/eos_structures'\n",
    "file_path = os.path.join(crystal_dir, 'TiN_D3_EOS.xyz')\n",
    "view(read(file_path))"
   ]
  },
  {
   "cell_type": "code",
   "execution_count": null,
   "id": "bfb4f502",
   "metadata": {},
   "outputs": [
    {
     "name": "stdout",
     "output_type": "stream",
     "text": [
      "✓ NbN_BEEF: slab generated and visualized.\n",
      "✓ NbN_D3: slab generated and visualized.\n",
      "✓ NbN_D4: slab generated and visualized.\n",
      "✓ ScN_BEEF: slab generated and visualized.\n",
      "✓ ScN_D3: slab generated and visualized.\n",
      "✓ ScN_D4: slab generated and visualized.\n",
      "✓ TiN_BEEF: slab generated and visualized.\n",
      "✓ TiN_D3: slab generated and visualized.\n",
      "✓ TiN_D4: slab generated and visualized.\n",
      "✓ VN_BEEF: slab generated and visualized.\n",
      "✓ VN_D3: slab generated and visualized.\n",
      "✓ VN_D4: slab generated and visualized.\n",
      "✓ ZrN_BEEF: slab generated and visualized.\n",
      "✓ ZrN_D3: slab generated and visualized.\n",
      "✓ ZrN_D4: slab generated and visualized.\n"
     ]
    }
   ],
   "source": [
    "from ase.io import read, write\n",
    "from ase.build import surface\n",
    "from ase.visualize import view\n",
    "import os\n",
    "\n",
    "crystal_dir = '../crystal/eos_structures'  # Relative path from slab dir\n",
    "all_xyz_files = [f for f in os.listdir(crystal_dir) if f.endswith('EOS.xyz')]\n",
    "\n",
    "for fname in all_xyz_files:\n",
    "    file_path = os.path.join(crystal_dir, fname)\n",
    "    try:\n",
    "        bulk = read(file_path)\n",
    "\n",
    "        # Clean the functional name\n",
    "        name = fname.replace('_EOS.xyz', '')\n",
    "        if 'PBE+D3' in name:\n",
    "            name = name.replace('PBE+D3', 'D3')\n",
    "        elif 'PBE+D4' in name:\n",
    "            name = name.replace('PBE+D4', 'D4')\n",
    "        elif 'BEEF-vdW' in name:\n",
    "            name = name.replace('BEEF-vdW', 'BEEF')\n",
    "\n",
    "        # Build a (100) slab: 4 layers, 5.5 Å vacuum, 2×2 supercell\n",
    "        slab = surface(bulk, (1, 0, 0), layers=2, vacuum=5.5)\n",
    "        slab.center(axis=2)\n",
    "        slab = slab * (2, 2, 1)\n",
    "\n",
    "        # Optional view\n",
    "        #view(slab)\n",
    "        print(f\"✓ {name}: slab generated and visualized.\")\n",
    "\n",
    "        # Save slab\n",
    "        write(f\"{name}_slab_100.xyz\", slab)\n",
    "    except Exception as e:\n",
    "        print(f\"⚠ Failed to process {fname}: {e}\")\n"
   ]
  },
  {
   "cell_type": "code",
   "execution_count": null,
   "id": "0b4fc952",
   "metadata": {},
   "outputs": [
    {
     "data": {
      "text/plain": [
       "'\\n    # Run relaxation\\n    traj_file = fname.replace(\\'.xyz\\', \\'_relax.traj\\')\\n    dyn = BFGS(atoms, trajectory=traj_file)\\n    dyn.run(fmax=fmax)\\n\\n    # Save relaxed structure\\n    relaxed_file = fname.replace(\\'.xyz\\', \\'_relaxed.xyz\\')\\n    write(relaxed_file, atoms)\\n    print(f\"✔ Relaxed: {relaxed_file}\")\\n'"
      ]
     },
     "execution_count": 17,
     "metadata": {},
     "output_type": "execute_result"
    }
   ],
   "source": [
    "from ase.io import read, write\n",
    "from ase.constraints import FixAtoms\n",
    "from ase.optimize import BFGS\n",
    "from ase.calculators.mixing import SumCalculator\n",
    "from dftd3.ase import DFTD3\n",
    "from dftd4.ase import DFTD4\n",
    "from gpaw import GPAW, PW, FermiDirac\n",
    "import os\n",
    "\n",
    "ecut = 500\n",
    "kpts = (4, 4, 1)\n",
    "smearing = 0.05\n",
    "fmax = 0.02  # force threshold\n",
    "\n",
    "# All slabs expected in format: 'TiN_D3_slab_100.xyz'\n",
    "slab_files = [f for f in os.listdir() if f.endswith('D3_slab_100.xyz')]\n",
    "\n",
    "def get_calculator(name, functional):\n",
    "    txt_file = f'{name}_{functional}_slab_relax.txt'\n",
    "    if functional == 'D3':\n",
    "        return SumCalculator([\n",
    "            GPAW(mode=PW(ecut), xc='PBE', kpts=kpts,\n",
    "                 occupations=FermiDirac(smearing), txt=txt_file),\n",
    "            DFTD3(method=\"PBE\", damping=\"d3bj\")\n",
    "        ])\n",
    "    else:\n",
    "        raise ValueError(f\"Unsupported functional in file: {functional}\")\n",
    "\n",
    "for fname in slab_files:\n",
    "    atoms = read(fname)\n",
    "    basename = fname.replace('_slab_100.xyz', '')  # e.g., TiN_D3\n",
    "    name_parts = basename.split('_')\n",
    "    material = name_parts[0]\n",
    "    functional = name_parts[1]  # D3, D4, or BEEF\n",
    "\n",
    "    # Fix bottom 2 layers by z-coordinate\n",
    "    z_positions = [atom.position[2] for atom in atoms]\n",
    "    sorted_indices = sorted(range(len(atoms)), key=lambda i: z_positions[i])\n",
    "    num_fixed = len(atoms) // 2  # fix bottom half (usually 2/4 layers)\n",
    "    fix_indices = sorted_indices[:num_fixed]\n",
    "    atoms.set_constraint(FixAtoms(indices=fix_indices))\n",
    "\n",
    "    # Set calculator\n",
    "    atoms.calc = get_calculator(material, functional)\n",
    "    view(atoms)\n",
    "'''\n",
    "    # Run relaxation\n",
    "    traj_file = fname.replace('.xyz', '_relax.traj')\n",
    "    dyn = BFGS(atoms, trajectory=traj_file)\n",
    "    dyn.run(fmax=fmax)\n",
    "\n",
    "    # Save relaxed structure\n",
    "    relaxed_file = fname.replace('.xyz', '_relaxed.xyz')\n",
    "    write(relaxed_file, atoms)\n",
    "    print(f\"✔ Relaxed: {relaxed_file}\")\n",
    "'''"
   ]
  }
 ],
 "metadata": {
  "kernelspec": {
   "display_name": "gpaw",
   "language": "python",
   "name": "python3"
  },
  "language_info": {
   "codemirror_mode": {
    "name": "ipython",
    "version": 3
   },
   "file_extension": ".py",
   "mimetype": "text/x-python",
   "name": "python",
   "nbconvert_exporter": "python",
   "pygments_lexer": "ipython3",
   "version": "3.12.2"
  }
 },
 "nbformat": 4,
 "nbformat_minor": 5
}

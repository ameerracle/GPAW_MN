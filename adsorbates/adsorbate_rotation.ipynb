{
 "cells": [
  {
   "cell_type": "code",
   "execution_count": 4,
   "id": "e1795f62",
   "metadata": {},
   "outputs": [],
   "source": [
    "from ase.io import read, write\n",
    "from ase.visualize import view\n",
    "import os\n",
    "functionals=['PBED3','BEEF']\n",
    "for functional in functionals:\n",
    " \n",
    "    lip=read('Li2S_'+functional+'.traj')\n",
    "    lip.rotate(45,'z')\n",
    "    lip.write('Li2S_'+functional+'_rotated.xyz')"
   ]
  },
  {
   "cell_type": "code",
   "execution_count": 23,
   "id": "37db1ab3",
   "metadata": {},
   "outputs": [],
   "source": [
    "\n",
    "from ase.io import read, write\n",
    "from ase.visualize import view\n",
    "import os\n",
    "functionals=['PBED3','BEEF']\n",
    "for functional in functionals:\n",
    " \n",
    "    lip=read('Li2S2_'+functional+'.traj')\n",
    "    lip.rotate(-45,'z')\n",
    "    lip.rotate(55,'y')\n",
    "    lip.rotate(45,'x')\n",
    "    lip.write('Li2S2_'+functional+'_rotated.xyz')"
   ]
  },
  {
   "cell_type": "code",
   "execution_count": 29,
   "id": "d87631bf",
   "metadata": {},
   "outputs": [],
   "source": [
    "\n",
    "from ase.io import read, write\n",
    "from ase.visualize import view\n",
    "import os\n",
    "functionals=['PBED3','BEEF']\n",
    "for functional in functionals:\n",
    " \n",
    "    lip=read('Li2S4_'+functional+'.traj')\n",
    "    lip.rotate(235,'z')\n",
    "    lip.write('Li2S4_'+functional+'_rotated.xyz')"
   ]
  }
 ],
 "metadata": {
  "kernelspec": {
   "display_name": "gpaw",
   "language": "python",
   "name": "python3"
  },
  "language_info": {
   "codemirror_mode": {
    "name": "ipython",
    "version": 3
   },
   "file_extension": ".py",
   "mimetype": "text/x-python",
   "name": "python",
   "nbconvert_exporter": "python",
   "pygments_lexer": "ipython3",
   "version": "3.12.2"
  }
 },
 "nbformat": 4,
 "nbformat_minor": 5
}

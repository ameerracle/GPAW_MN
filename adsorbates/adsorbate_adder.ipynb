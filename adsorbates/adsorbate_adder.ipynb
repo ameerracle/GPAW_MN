{
 "cells": [
  {
   "cell_type": "code",
   "execution_count": 6,
   "id": "1a420b03",
   "metadata": {},
   "outputs": [
    {
     "name": "stdout",
     "output_type": "stream",
     "text": [
      "Processing BEEF slabs...\n"
     ]
    },
    {
     "ename": "FileNotFoundError",
     "evalue": "[Errno 2] No such file or directory: 'slab\\\\Results\\\\NbN_BEEF_slab_100_relax.traj'",
     "output_type": "error",
     "traceback": [
      "\u001b[1;31m---------------------------------------------------------------------------\u001b[0m",
      "\u001b[1;31mFileNotFoundError\u001b[0m                         Traceback (most recent call last)",
      "Cell \u001b[1;32mIn[6], line 32\u001b[0m\n\u001b[0;32m     30\u001b[0m \u001b[38;5;28;01mfor\u001b[39;00m file \u001b[38;5;129;01min\u001b[39;00m beef_slabs:\n\u001b[0;32m     31\u001b[0m     slab_file \u001b[38;5;241m=\u001b[39m os\u001b[38;5;241m.\u001b[39mpath\u001b[38;5;241m.\u001b[39mjoin(\u001b[38;5;124m\"\u001b[39m\u001b[38;5;124mslab\u001b[39m\u001b[38;5;124m\"\u001b[39m, \u001b[38;5;124m\"\u001b[39m\u001b[38;5;124mResults\u001b[39m\u001b[38;5;124m\"\u001b[39m, file)\n\u001b[1;32m---> 32\u001b[0m     slab \u001b[38;5;241m=\u001b[39m \u001b[43mread\u001b[49m\u001b[43m(\u001b[49m\u001b[43mslab_file\u001b[49m\u001b[43m)\u001b[49m\n\u001b[0;32m     34\u001b[0m     combi \u001b[38;5;241m=\u001b[39m slab\u001b[38;5;241m.\u001b[39mcopy()\n\u001b[0;32m     35\u001b[0m     slab_file_path \u001b[38;5;241m=\u001b[39m results_dir \u001b[38;5;241m/\u001b[39m file\n",
      "File \u001b[1;32mc:\\Users\\ameer\\miniforge3\\envs\\ase\\Lib\\site-packages\\ase\\io\\formats.py:802\u001b[0m, in \u001b[0;36mread\u001b[1;34m(filename, index, format, parallel, do_not_split_by_at_sign, **kwargs)\u001b[0m\n\u001b[0;32m    800\u001b[0m \u001b[38;5;28;01mif\u001b[39;00m index \u001b[38;5;129;01mis\u001b[39;00m \u001b[38;5;28;01mNone\u001b[39;00m:\n\u001b[0;32m    801\u001b[0m     index \u001b[38;5;241m=\u001b[39m \u001b[38;5;241m-\u001b[39m\u001b[38;5;241m1\u001b[39m\n\u001b[1;32m--> 802\u001b[0m \u001b[38;5;28mformat\u001b[39m \u001b[38;5;241m=\u001b[39m \u001b[38;5;28mformat\u001b[39m \u001b[38;5;129;01mor\u001b[39;00m \u001b[43mfiletype\u001b[49m\u001b[43m(\u001b[49m\u001b[43mfilename\u001b[49m\u001b[43m,\u001b[49m\u001b[43m \u001b[49m\u001b[43mread\u001b[49m\u001b[38;5;241;43m=\u001b[39;49m\u001b[38;5;28;43misinstance\u001b[39;49m\u001b[43m(\u001b[49m\u001b[43mfilename\u001b[49m\u001b[43m,\u001b[49m\u001b[43m \u001b[49m\u001b[38;5;28;43mstr\u001b[39;49m\u001b[43m)\u001b[49m\u001b[43m)\u001b[49m\n\u001b[0;32m    804\u001b[0m io \u001b[38;5;241m=\u001b[39m get_ioformat(\u001b[38;5;28mformat\u001b[39m)\n\u001b[0;32m    805\u001b[0m \u001b[38;5;28;01mif\u001b[39;00m \u001b[38;5;28misinstance\u001b[39m(index, (\u001b[38;5;28mslice\u001b[39m, \u001b[38;5;28mstr\u001b[39m)):\n",
      "File \u001b[1;32mc:\\Users\\ameer\\miniforge3\\envs\\ase\\Lib\\site-packages\\ase\\io\\formats.py:974\u001b[0m, in \u001b[0;36mfiletype\u001b[1;34m(filename, read, guess)\u001b[0m\n\u001b[0;32m    971\u001b[0m     \u001b[38;5;28;01mreturn\u001b[39;00m ext\n\u001b[0;32m    973\u001b[0m \u001b[38;5;28;01mif\u001b[39;00m orig_filename \u001b[38;5;241m==\u001b[39m filename:\n\u001b[1;32m--> 974\u001b[0m     fd \u001b[38;5;241m=\u001b[39m \u001b[43mopen_with_compression\u001b[49m\u001b[43m(\u001b[49m\u001b[43mfilename\u001b[49m\u001b[43m,\u001b[49m\u001b[43m \u001b[49m\u001b[38;5;124;43m'\u001b[39;49m\u001b[38;5;124;43mrb\u001b[39;49m\u001b[38;5;124;43m'\u001b[39;49m\u001b[43m)\u001b[49m\n\u001b[0;32m    975\u001b[0m \u001b[38;5;28;01melse\u001b[39;00m:\n\u001b[0;32m    976\u001b[0m     fd \u001b[38;5;241m=\u001b[39m orig_filename  \u001b[38;5;66;03m# type: ignore[assignment]\u001b[39;00m\n",
      "File \u001b[1;32mc:\\Users\\ameer\\miniforge3\\envs\\ase\\Lib\\site-packages\\ase\\io\\formats.py:606\u001b[0m, in \u001b[0;36mopen_with_compression\u001b[1;34m(filename, mode)\u001b[0m\n\u001b[0;32m    603\u001b[0m     \u001b[38;5;28;01mreturn\u001b[39;00m lzma\u001b[38;5;241m.\u001b[39mopen(filename, mode)\n\u001b[0;32m    604\u001b[0m \u001b[38;5;28;01melse\u001b[39;00m:\n\u001b[0;32m    605\u001b[0m     \u001b[38;5;66;03m# Either None or unknown string\u001b[39;00m\n\u001b[1;32m--> 606\u001b[0m     \u001b[38;5;28;01mreturn\u001b[39;00m \u001b[38;5;28;43mopen\u001b[39;49m\u001b[43m(\u001b[49m\u001b[43mfilename\u001b[49m\u001b[43m,\u001b[49m\u001b[43m \u001b[49m\u001b[43mmode\u001b[49m\u001b[43m)\u001b[49m\n",
      "\u001b[1;31mFileNotFoundError\u001b[0m: [Errno 2] No such file or directory: 'slab\\\\Results\\\\NbN_BEEF_slab_100_relax.traj'"
     ]
    }
   ],
   "source": [
    "import os\n",
    "from ase.io import read, write\n",
    "from ase.build import add_adsorbate\n",
    "import numpy as np\n",
    "from ase.visualize import view\n",
    "from pathlib import Path\n",
    "\n",
    "\n",
    "# Define the adsorbate files\n",
    "beef_adsorbate = \"Li2S_Pople_BEEF.traj\"\n",
    "\n",
    "\n",
    "\n",
    "# Read the adsorbate structures\n",
    "li2s_beef = read(beef_adsorbate)\n",
    "\n",
    "\n",
    "# Define the slab files based on your list\n",
    "beef_slabs = [\n",
    "    \"NbN_BEEF_slab_100_relax.traj\",\n",
    "    \"ScN_BEEF_slab_100_relax.traj\", \n",
    "    \"TiN_BEEF_slab_100_relax.traj\",\n",
    "    \"VN_BEEF_slab_100_relax.traj\",\n",
    "    \"ZrN_BEEF_slab_100_relax.traj\"\n",
    "]\n",
    "\n",
    "results_dir = Path(\"slab\") / \"Results\"\n",
    "# Process BEEF slabs\n",
    "print(\"Processing BEEF slabs...\")\n",
    "for file in beef_slabs:\n",
    "    slab_file = os.path.join(\"slab\", \"Results\", file)\n",
    "    slab = read(slab_file)\n",
    "    \n",
    "    combi = slab.copy()\n",
    "    slab_file_path = results_dir / file\n",
    "\n",
    "    # It's safer to check if the file exists before trying to read it\n",
    "    if not slab_file_path.is_file():\n",
    "        print(f\"Warning: File not found, skipping: {slab_file_path}\")\n",
    "        continue\n",
    "\n",
    "    slab = read(slab_file_path)\n",
    "    combi = slab.copy()\n",
    "  \n"
   ]
  },
  {
   "cell_type": "code",
   "execution_count": null,
   "id": "cdb92877",
   "metadata": {},
   "outputs": [],
   "source": [
    "import os\n",
    "from ase.io import read, write\n",
    "from ase.build import add_adsorbate\n",
    "import numpy as np\n",
    "from ase.visualize import view\n",
    "\n",
    "\n",
    "d3_adsorbate = \"Li2S_Pople_PBED3.traj\"\n",
    "\n",
    "li2s_d3 = read(d3_adsorbate)\n",
    "\n",
    "d3_slabs = [\n",
    "    \"NbN_D3_slab_100_relax.traj\",\n",
    "    \"ScN_D3_slab_100_relax.traj\",\n",
    "    \"TiN_D3_slab_100_relax.traj\", \n",
    "    \"VN_D3_slab_100_relax.traj\",\n",
    "    \"ZrN_D3_slab_100_relax.traj\"]\n",
    "\n"
   ]
  }
 ],
 "metadata": {
  "kernelspec": {
   "display_name": "ase",
   "language": "python",
   "name": "python3"
  },
  "language_info": {
   "codemirror_mode": {
    "name": "ipython",
    "version": 3
   },
   "file_extension": ".py",
   "mimetype": "text/x-python",
   "name": "python",
   "nbconvert_exporter": "python",
   "pygments_lexer": "ipython3",
   "version": "3.12.9"
  }
 },
 "nbformat": 4,
 "nbformat_minor": 5
}

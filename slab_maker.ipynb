{
 "cells": [
  {
   "cell_type": "code",
   "execution_count": 5,
   "id": "f3297f99",
   "metadata": {},
   "outputs": [
    {
     "name": "stdout",
     "output_type": "stream",
     "text": [
      "[ 2.49867018  2.49867018  2.49867018 90.         90.         90.        ]\n",
      "Visualizing TiN structure from TiN_PBE+D3_strain.traj\n",
      "[ 2.45212166  2.45212166  2.45212166 90.         90.         90.        ]\n",
      "Visualizing VN structure from VN_PBE+D3_strain.traj\n",
      "[ 2.45981341  2.45981341  2.45981341 90.         90.         90.        ]\n",
      "Visualizing ScN structure from ScN_PBE+D3_strain.traj\n",
      "[ 2.57823395  2.57823395  2.57823395 90.         90.         90.        ]\n",
      "Visualizing ZrN structure from ZrN_PBE+D3_strain.traj\n",
      "[ 2.55999354  2.55999354  2.55999354 90.         90.         90.        ]\n",
      "Visualizing NbN structure from NbN_PBE+D3_strain.traj\n"
     ]
    }
   ],
   "source": [
    "from ase.io import read\n",
    "from ase.visualize import view\n",
    "crystals = ['TiN', 'VN', 'ScN', 'ZrN', 'NbN']  # Assuming these are defined elsewhere\n",
    "\n",
    "for crystal_name in crystals:\n",
    "    filename = f'{crystal_name}_PBE+D3_strain.traj'\n",
    "    crystal = read(filename)\n",
    "    print(crystal.cell.cellpar())\n",
    "    view(crystal)  # This will open a window to visualize the crystal structure\n",
    "    print(f\"Visualizing {crystal_name} structure from {filename}\")"
   ]
  },
  {
   "cell_type": "code",
   "execution_count": null,
   "id": "c5acd546",
   "metadata": {},
   "outputs": [],
   "source": [
    "from ase.io import read, write\n",
    "from ase.atoms import Atoms\n",
    "import os\n",
    "\n",
    "materials = ['TiN', 'VN', 'ScN', 'NbN', 'ZrN']\n",
    "\n",
    "for material in materials:\n",
    "    print(f\"Processing {material} to fix atom indexing...\")\n",
    "    \n",
    "\n",
    "    crystal = read(material + '.cif')  # Read the crystal structure from CIF file\n",
    "\n",
    "    # Get a list of atoms with their chemical symbols and original indices\n",
    "    # We will sort this list to create a new Atoms object with desired order\n",
    "    atom_list = []\n",
    "    for atom in crystal:\n",
    "        atom_list.append((atom.symbol, atom.position, atom.tag, atom.momentum, atom.mass, atom.magmom))\n",
    "    \n",
    "    # Sort atoms first by chemical symbol (e.g., 'N' before 'Nb', 'Ti' before 'N')\n",
    "    # This assumes consistent naming for metal and nitrogen atoms.\n",
    "    # For example, if 'M' is the metal and 'N' is nitrogen, 'M' will come before 'N' due to alphabetical sort.\n",
    "    atom_list.sort(key=lambda x: x[0]) \n",
    "\n",
    "    # Create a new Atoms object with the reordered atoms\n",
    "    # Extract positions, symbols, and cell/pbc from original crystal\n",
    "    new_symbols = [item[0] for item in atom_list]\n",
    "    new_positions = [item[1] for item in atom_list]\n",
    "    \n",
    "    reordered_crystal = Atoms(symbols=new_symbols,\n",
    "                              positions=new_positions,\n",
    "                              cell=crystal.get_cell(),\n",
    "                              pbc=crystal.get_pbc())\n",
    "\n",
    "    # Add tags, momentum, mass, magmom if they were present\n",
    "    if crystal.has('tags'):\n",
    "        reordered_crystal.set_tags([item[2] for item in atom_list])\n",
    "    if crystal.has('momenta'):\n",
    "        reordered_crystal.set_momenta([item[3] for item in atom_list])\n",
    "    if crystal.has('masses'):\n",
    "        reordered_crystal.set_masses([item[4] for item in atom_list])\n",
    "    if crystal.has('magmoms'):\n",
    "        reordered_crystal.set_magmoms([item[5] for item in atom_list])\n",
    "\n",
    "    # Save the reordered crystal to an .xyz file\n",
    "    xyz_filename = os.path.join(fixed_index_dir, f'{material}_reordered.xyz')\n",
    "    write(xyz_filename, reordered_crystal)\n",
    "    \n",
    "    print(f\"Reordered atoms and saved to {xyz_filename}\")\n",
    "    print(f\"New atom order for {material}: {reordered_crystal.get_chemical_formula()} (original number of atoms: {len(crystal)})\")\n",
    "\n",
    "print(\"\\nAtom indexing fix process completed for all materials.\")"
   ]
  }
 ],
 "metadata": {
  "kernelspec": {
   "display_name": "gpaw",
   "language": "python",
   "name": "python3"
  },
  "language_info": {
   "codemirror_mode": {
    "name": "ipython",
    "version": 3
   },
   "file_extension": ".py",
   "mimetype": "text/x-python",
   "name": "python",
   "nbconvert_exporter": "python",
   "pygments_lexer": "ipython3",
   "version": "3.12.2"
  }
 },
 "nbformat": 4,
 "nbformat_minor": 5
}

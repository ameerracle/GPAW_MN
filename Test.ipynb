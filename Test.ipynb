{
 "cells": [
  {
   "cell_type": "code",
   "execution_count": null,
   "id": "e0af8367",
   "metadata": {},
   "outputs": [
    {
     "name": "stdout",
     "output_type": "stream",
     "text": [
      "D4:  -2.4850464555970335\n",
      "D3:  -2.471274320241147\n"
     ]
    }
   ],
   "source": [
    "from ase.io import read\n",
    "from gpaw import GPAW, FermiDirac, PW\n",
    "from ase.visualize import view\n",
    "import numpy as np\n",
    "import pandas as pd\n",
    "from dftd4.ase import DFTD4\n",
    "from dftd3.ase import DFTD3\n",
    "from ase.build import fcc100\n",
    "\n",
    "gp = GPAW(mode=PW(500),\n",
    "          xc='PBE',\n",
    "          kpts=(3, 3, 1),\n",
    "          occupations=FermiDirac(0.1),\n",
    "          txt='gpaw.txt',)\n",
    "\n",
    "\n",
    "atoms = fcc100('Cu', size=(1,1,1),vacuum=5)\n",
    "\n",
    "view(atoms)\n",
    "#atoms.calc = gp\n",
    "atoms.calc = SumCalculator([gp, DFTD4(method='PBE', damping='d3bj')])\n",
    "print('D4: ',atoms.get_potential_energy())\n",
    "atoms.calc= SumCalculator([gp, DFTD3(method='PBE',damping = 'd3bj')])    \n",
    "print('D3: ',atoms.get_potential_energy())"
   ]
  },
  {
   "cell_type": "code",
   "execution_count": null,
   "id": "7eddb842",
   "metadata": {},
   "outputs": [],
   "source": [
    "import matplotlib.pyplot as plt\n",
    "import seaborn as sns\n",
    "import pandas as pd\n",
    "\n",
    "# Load the DataFrame\n",
    "df = pd.read_excel('ecut_convergence_results_fixed.xlsx')\n",
    "\n",
    "# Get unique metal-functional combinations\n",
    "combinations = df[['Metal', 'Functional']].drop_duplicates().reset_index(drop=True)\n",
    "\n",
    "# Plot setup\n",
    "fig, axes = plt.subplots(nrows=5, ncols=2, figsize=(12, 18), sharex=True)\n",
    "axes = axes.flatten()\n",
    "sns.set(style='whitegrid')\n",
    "\n",
    "# Plot each metal-functional combination\n",
    "for i, (metal, functional) in combinations.iterrows():\n",
    "    subset = df[(df['Metal'] == metal) & (df['Functional'] == functional)]\n",
    "    ax = axes[i]\n",
    "    sns.lineplot(data=subset, x='Ecut (eV)', y='Energy (eV)', marker='o', ax=ax)\n",
    "    ax.set_title(f'{metal} - {functional}')\n",
    "    ax.set_xlabel('Ecut (eV)', fontweight='bold')\n",
    "    ax.set_ylabel('Energy (eV)', fontweight='bold')\n",
    "\n",
    "# Adjust layout\n",
    "plt.tight_layout()\n",
    "subplot_path = '/mnt/data/All_Metals_Functionals_Ecut_Energy_Subplots.png'\n",
    "plt.savefig(subplot_path)\n",
    "plt.close()\n",
    "\n",
    "subplot_path\n"
   ]
  }
 ],
 "metadata": {
  "kernelspec": {
   "display_name": "gpaw",
   "language": "python",
   "name": "python3"
  },
  "language_info": {
   "codemirror_mode": {
    "name": "ipython",
    "version": 3
   },
   "file_extension": ".py",
   "mimetype": "text/x-python",
   "name": "python",
   "nbconvert_exporter": "python",
   "pygments_lexer": "ipython3",
   "version": "3.12.9"
  }
 },
 "nbformat": 4,
 "nbformat_minor": 5
}

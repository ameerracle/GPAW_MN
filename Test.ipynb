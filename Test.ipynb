{
 "cells": [
  {
   "cell_type": "code",
   "execution_count": 5,
   "id": "e0af8367",
   "metadata": {},
   "outputs": [
    {
     "name": "stdout",
     "output_type": "stream",
     "text": [
      "D4:  -2.4850464555970335\n",
      "D3:  -2.471274320241147\n"
     ]
    }
   ],
   "source": [
    "from ase.io import read\n",
    "from gpaw import GPAW, FermiDirac, PW\n",
    "from ase.visualize import view\n",
    "import numpy as np\n",
    "import pandas as pd\n",
    "from dftd4.ase import DFTD4\n",
    "from dftd3.ase import DFTD3\n",
    "from ase.build import fcc100\n",
    "from ase.calculators.mixing import SumCalculator\n",
    "\n",
    "gp = GPAW(mode=PW(500),\n",
    "          xc='PBE',\n",
    "          kpts=(3, 3, 1),\n",
    "          occupations=FermiDirac(0.1),\n",
    "          txt='gpaw.txt',)\n",
    "\n",
    "\n",
    "atoms = fcc100('Cu', size=(1,1,1),vacuum=5)\n",
    "\n",
    "view(atoms)\n",
    "#atoms.calc = gp\n",
    "atoms.calc = SumCalculator([gp, DFTD4(method='PBE', damping='d3bj')])\n",
    "print('D4: ',atoms.get_potential_energy())\n",
    "atoms.calc= SumCalculator([gp, DFTD3(method='PBE',damping = 'd3bj')])    \n",
    "print('D3: ',atoms.get_potential_energy())"
   ]
  },
  {
   "cell_type": "code",
   "execution_count": null,
   "id": "7eddb842",
   "metadata": {},
   "outputs": [],
   "source": []
  }
 ],
 "metadata": {
  "kernelspec": {
   "display_name": "gpaw",
   "language": "python",
   "name": "python3"
  },
  "language_info": {
   "codemirror_mode": {
    "name": "ipython",
    "version": 3
   },
   "file_extension": ".py",
   "mimetype": "text/x-python",
   "name": "python",
   "nbconvert_exporter": "python",
   "pygments_lexer": "ipython3",
   "version": "3.12.2"
  }
 },
 "nbformat": 4,
 "nbformat_minor": 5
}
